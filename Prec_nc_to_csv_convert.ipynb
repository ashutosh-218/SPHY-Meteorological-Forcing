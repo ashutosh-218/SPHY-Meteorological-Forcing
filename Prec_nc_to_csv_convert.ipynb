{
 "cells": [
  {
   "cell_type": "code",
   "execution_count": 1,
   "metadata": {},
   "outputs": [],
   "source": [
    "import xarray as xr\n",
    "import pandas as pd\n",
    "import time as tm\n",
    "import os\n",
    "import numpy as np\n",
    "pd.set_option('display.float_format', '{:.6f}'.format)\n",
    "np.set_printoptions(suppress=True)"
   ]
  },
  {
   "cell_type": "code",
   "execution_count": 2,
   "metadata": {},
   "outputs": [
    {
     "data": {
      "text/plain": [
       "['dec.nc']"
      ]
     },
     "execution_count": 2,
     "metadata": {},
     "output_type": "execute_result"
    }
   ],
   "source": [
    "inputpath = r\"C:\\Users\\####3\\Downloads\\ERA5_reanalysis\\tp2\\2014\\12\" # keep single file only \n",
    "files = os.listdir(inputpath)\n",
    "files"
   ]
  },
  {
   "cell_type": "code",
   "execution_count": null,
   "metadata": {},
   "outputs": [],
   "source": [
    "dfs = {}\n",
    "for file in files:\n",
    "    print(f'{file}')\n",
    "    ds = xr.open_mfdataset(f\"{inputpath}\\\\{file}\")\n",
    "    rain = ds[\"tp\"]       #write your precipitation variable\n",
    "    time = rain[\"time\"]\n",
    "    \n",
    "    date = []\n",
    "    rain_v = []\n",
    "    for i in range(time.shape[0]):\n",
    "        rain_values = rain[i,:,:].values*1000         #this is done to convert data from m to mm\n",
    "        rain_values = np.reshape(rain_values,(1,-1))\n",
    "        rain_values = np.where(rain_values<=0 , 0 ,rain_values)\n",
    "        rain_v.append(rain_values[0])\n",
    "        date.append(time[i].values)\n",
    "  \n",
    "    data = pd.DataFrame(np.array(rain_v))\n",
    "    data.index = date\n",
    "    data.index = pd.to_datetime(data.index)\n",
    "    daily_df = data.resample('D').sum()            #24-hourly data of day is added \n",
    "    dfs[file] = daily_df\n",
    "    ds.close()  # Corrected to close the dataset\n",
    "P_result_df = pd.concat(dfs.values())\n",
    "P_result_df\n",
    "P_result_df.index.name = \"Date\"\n",
    "P_result_df.to_csv(r\"C:\\Users\\####3\\Downloads\\ERA5_reanalysis\\tp2\\2014\\csv\\prec\\P_2014_12.csv\")\n",
    "P_result_df"
   ]
  },
  {
   "cell_type": "code",
   "execution_count": null,
   "metadata": {},
   "outputs": [],
   "source": [
    "#Location data \n",
    "lat = []\n",
    "lon = []\n",
    "for i in rain[\"latitude\"]:\n",
    "    for j in rain[\"longitude\"]:\n",
    "        lat.append(i.values)\n",
    "        lon.append(j.values)\n",
    "\n",
    "grid = list(range(0,len(lat)))\n",
    "location_file = {\"latitude\":lat, \"longitude\":lon , \"Grid\": grid}\n",
    "loc_data = pd.DataFrame(location_file)\n",
    "loc_data.to_csv(r\"C:\\Users\\####3\\Downloads\\ERA5_reanalysis\\tp2\\2014\\csv\\loc\\loc.csv\")\n",
    "loc_data"
   ]
  }
 ],
 "metadata": {
  "kernelspec": {
   "display_name": "py3",
   "language": "python",
   "name": "python3"
  },
  "language_info": {
   "codemirror_mode": {
    "name": "ipython",
    "version": 3
   },
   "file_extension": ".py",
   "mimetype": "text/x-python",
   "name": "python",
   "nbconvert_exporter": "python",
   "pygments_lexer": "ipython3",
   "version": "3.12.1"
  }
 },
 "nbformat": 4,
 "nbformat_minor": 2
}
